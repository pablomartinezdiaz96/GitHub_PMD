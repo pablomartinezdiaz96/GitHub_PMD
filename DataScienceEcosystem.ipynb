{
  "nbformat": 4,
  "nbformat_minor": 0,
  "metadata": {
    "colab": {
      "provenance": []
    },
    "kernelspec": {
      "name": "python3",
      "display_name": "Python 3"
    },
    "language_info": {
      "name": "python"
    }
  },
  "cells": [
    {
      "cell_type": "markdown",
      "source": [
        "# Data Science Tools and Ecosystem\n"
      ],
      "metadata": {
        "id": "cmmDgoxKDxq0"
      }
    },
    {
      "cell_type": "markdown",
      "source": [
        "Introducción: Este cuaderno presenta conceptos fundamentales en ciencia de datos y su aplicación en el análisis y visualización de datos.\n"
      ],
      "metadata": {
        "id": "Lu_DVneDDz39"
      }
    },
    {
      "cell_type": "markdown",
      "source": [
        "Lenguajes de la Ciencia de Datos:\n",
        "1. Python\n",
        "2. R\n",
        "3. SQL\n"
      ],
      "metadata": {
        "id": "BN3peF4zD1LE"
      }
    },
    {
      "cell_type": "markdown",
      "source": [
        "Bibliotecas de Ciencia de Datos:\n",
        "- Pandas\n",
        "- NumPy\n",
        "- Matplotlib\n"
      ],
      "metadata": {
        "id": "td-gswWRD2jM"
      }
    },
    {
      "cell_type": "markdown",
      "source": [
        "Tabla de Herramientas de Ciencia de Datos:\n",
        "\n",
        "| Herramienta           | Descripción                      |\n",
        "|-----------------------|----------------------------------|\n",
        "| Jupyter Notebook      | Entorno interactivo de Python    |\n",
        "| Anaconda              | Plataforma de ciencia de datos   |\n",
        "| TensorFlow            | Biblioteca de aprendizaje automático |"
      ],
      "metadata": {
        "id": "Cx-rerdHD5EU"
      }
    },
    {
      "cell_type": "markdown",
      "source": [
        "Ejemplos de expresiones aritméticas:\n",
        "- 3 + 5\n",
        "- (6 * 7) / 2"
      ],
      "metadata": {
        "id": "Z9z6wFMKD9Fc"
      }
    },
    {
      "cell_type": "code",
      "source": [
        "# Celda de código\n",
        "# Multiplicar y sumar números\n",
        "a = 3\n",
        "b = 5\n",
        "multiplicacion = a * b\n",
        "suma = a + b\n",
        "print(\"El resultado de la multiplicación es:\", multiplicacion)\n",
        "print(\"El resultado de la suma es:\", suma)"
      ],
      "metadata": {
        "colab": {
          "base_uri": "https://localhost:8080/"
        },
        "id": "d8kNHePgEAEU",
        "outputId": "801ceba1-0b53-4f8b-e9c0-b917a53353a9"
      },
      "execution_count": 1,
      "outputs": [
        {
          "output_type": "stream",
          "name": "stdout",
          "text": [
            "El resultado de la multiplicación es: 15\n",
            "El resultado de la suma es: 8\n"
          ]
        }
      ]
    },
    {
      "cell_type": "code",
      "source": [
        "# Celda de código\n",
        "# Convertir minutos en horas\n",
        "minutos = 150\n",
        "horas = minutos / 60\n",
        "print(minutos, \"minutos equivalen a\", horas, \"horas\")\n"
      ],
      "metadata": {
        "colab": {
          "base_uri": "https://localhost:8080/"
        },
        "id": "-XsNnNeaECDA",
        "outputId": "ec2a8cc4-0e48-4904-fafa-53d164e916a2"
      },
      "execution_count": 2,
      "outputs": [
        {
          "output_type": "stream",
          "name": "stdout",
          "text": [
            "150 minutos equivalen a 2.5 horas\n"
          ]
        }
      ]
    },
    {
      "cell_type": "code",
      "source": [
        "# Celda de código\n",
        "# Listar Objetivos\n",
        "objetivos = [\"Aprender Python\", \"Dominar la visualización de datos\", \"Aplicar técnicas de aprendizaje automático\"]\n",
        "for objetivo in objetivos:\n",
        "    print(objetivo)"
      ],
      "metadata": {
        "colab": {
          "base_uri": "https://localhost:8080/"
        },
        "id": "65Sofi7MEEOE",
        "outputId": "8f163122-e80d-4d4b-f699-65c1c7137cb7"
      },
      "execution_count": 3,
      "outputs": [
        {
          "output_type": "stream",
          "name": "stdout",
          "text": [
            "Aprender Python\n",
            "Dominar la visualización de datos\n",
            "Aplicar técnicas de aprendizaje automático\n"
          ]
        }
      ]
    },
    {
      "cell_type": "markdown",
      "source": [
        "Nombre del Autor: Pablo Martínez Díaz"
      ],
      "metadata": {
        "id": "g7Nq5tkLEFln"
      }
    },
    {
      "cell_type": "code",
      "source": [],
      "metadata": {
        "id": "AsHYV03dIEbS"
      },
      "execution_count": null,
      "outputs": []
    }
  ]
}